{
 "cells": [
  {
   "cell_type": "code",
   "execution_count": 84,
   "id": "df2f5088",
   "metadata": {},
   "outputs": [],
   "source": [
    "from torchvision.models import resnet18, ResNet18_Weights\n",
    "\n",
    "# Load a pretrained model using the new API\n",
    "weights = ResNet18_Weights.DEFAULT\n",
    "model = resnet18(weights=weights)\n"
   ]
  },
  {
   "cell_type": "code",
   "execution_count": 85,
   "id": "470ab502",
   "metadata": {},
   "outputs": [],
   "source": [
    "#Freeze all layers\n",
    "for param in model.parameters():\n",
    "    param.requires_grad = False"
   ]
  },
  {
   "cell_type": "code",
   "execution_count": 86,
   "id": "397a2b2a",
   "metadata": {},
   "outputs": [],
   "source": [
    "\n",
    "#Unfreeze the last two layers\n",
    "for param in model.layer4.parameters():\n",
    "    param.requires_grad = True\n",
    "\n",
    "for param in model.fc.parameters():\n",
    "    param.requires_grad = True\n"
   ]
  },
  {
   "cell_type": "code",
   "execution_count": 87,
   "id": "923bde7b",
   "metadata": {},
   "outputs": [],
   "source": [
    "\n",
    "import torch.nn as nn\n",
    "\n",
    "num_classes = 10\n",
    "\n",
    "model.fc = nn.Linear(model.fc.in_features, num_classes)"
   ]
  },
  {
   "cell_type": "code",
   "execution_count": 88,
   "id": "50027ea1",
   "metadata": {},
   "outputs": [],
   "source": [
    "# Train the last layer\n",
    "import torch.optim as optim\n",
    "\n",
    "criterion = nn.CrossEntropyLoss()\n",
    "optimizer = optim.SGD([\n",
    "    {\"params\": model.layer4.parameters()},\n",
    "    {\"params\": model.fc.parameters()}\n",
    "], lr=0.01, momentum=0.9)"
   ]
  },
  {
   "cell_type": "code",
   "execution_count": 89,
   "id": "9150f7ee",
   "metadata": {},
   "outputs": [],
   "source": [
    "from torchvision import datasets, transforms\n",
    "from torch.utils.data import DataLoader\n",
    "\n",
    "# Define transformations for the training dataset\n",
    "transform = transforms.Compose([\n",
    "    transforms.Resize((224, 224)),                                                  # Resize images to match ResNet input size\n",
    "    transforms.ToTensor(),                                                          # Convert images to PyTorch tensors\n",
    "    transforms.Normalize(mean=[0.485, 0.456, 0.406], std=[0.229, 0.224, 0.225])     # Normalize using ImageNet stats\n",
    "])\n",
    "\n",
    "# Load the training dataset\n",
    "model.load_state_dict(torch.load('../models/best_model.pth', map_location=device))\n",
    "\n",
    "\n",
    "\n",
    "# Create the DataLoader\n",
    "train_loader = DataLoader(train_dataset, batch_size=32, shuffle=True)"
   ]
  },
  {
   "cell_type": "code",
   "execution_count": 90,
   "id": "651cbd40",
   "metadata": {},
   "outputs": [],
   "source": [
    "def check_early_stopping(current_acc, best_acc, patience_counter, patience, model, save_path='../models/best_resnet_model.pth'):\n",
    "    \"\"\"\n",
    "    Check if early stopping criteria are met and save the best model if needed.\n",
    "    \"\"\"\n",
    "    should_stop = False\n",
    "    \n",
    "    if current_acc > best_acc:\n",
    "        best_acc = current_acc\n",
    "        patience_counter = 0\n",
    "        # Save weights\n",
    "        torch.save(model.state_dict(), save_path)\n",
    "        print(\"Accuracy improved — saving best model.\")\n",
    "    else:\n",
    "        patience_counter += 1\n",
    "        print(f\"No improvement in accuracy. Patience: {patience_counter}/{patience}\")\n",
    "        \n",
    "        if patience_counter >= patience:\n",
    "            print(\"Early stopping triggered!\")\n",
    "            should_stop = True\n",
    "            \n",
    "    return best_acc, patience_counter, should_stop"
   ]
  },
  {
   "cell_type": "code",
   "execution_count": 91,
   "id": "ec921c4c",
   "metadata": {},
   "outputs": [
    {
     "ename": "ValueError",
     "evalue": "not enough values to unpack (expected 2, got 0)",
     "output_type": "error",
     "traceback": [
      "\u001b[0;31m---------------------------------------------------------------------------\u001b[0m",
      "\u001b[0;31mValueError\u001b[0m                                Traceback (most recent call last)",
      "Cell \u001b[0;32mIn[91], line 17\u001b[0m\n\u001b[1;32m     14\u001b[0m correct \u001b[38;5;241m=\u001b[39m \u001b[38;5;241m0\u001b[39m\n\u001b[1;32m     15\u001b[0m total \u001b[38;5;241m=\u001b[39m \u001b[38;5;241m0\u001b[39m\n\u001b[0;32m---> 17\u001b[0m \u001b[38;5;28;01mfor\u001b[39;00m images, labels \u001b[38;5;129;01min\u001b[39;00m train_loader:\n\u001b[1;32m     18\u001b[0m     images, labels \u001b[38;5;241m=\u001b[39m images\u001b[38;5;241m.\u001b[39mto(device), labels\u001b[38;5;241m.\u001b[39mto(device)\n\u001b[1;32m     20\u001b[0m     \u001b[38;5;66;03m# Forward pass\u001b[39;00m\n",
      "\u001b[0;31mValueError\u001b[0m: not enough values to unpack (expected 2, got 0)"
     ]
    }
   ],
   "source": [
    "\n",
    "\n",
    "# Initialize early stopping parameters\n",
    "best_val_acc = 0.0\n",
    "patience = 3 \n",
    "patience_counter = 0\n",
    "\n",
    "device = torch.device(\"cuda\" if torch.cuda.is_available() else \"cpu\")\n",
    "model.to(device)\n",
    "\n",
    "# Training loop\n",
    "num_epochs = 20  # Increased from 5 to give early stopping a chance to be triggered\n",
    "for epoch in range(num_epochs):\n",
    "    model.train()\n",
    "    running_loss = 0.0\n",
    "    correct = 0\n",
    "    total = 0\n",
    "\n",
    "    for images, labels in train_loader:\n",
    "        images, labels = images.to(device), labels.to(device)\n",
    "\n",
    "        # Forward pass\n",
    "        outputs = model(images)\n",
    "        loss = criterion(outputs, labels)\n",
    "\n",
    "        # Backward and optimize\n",
    "        optimizer.zero_grad()\n",
    "        loss.backward()\n",
    "        optimizer.step()\n",
    "\n",
    "        # Track stats\n",
    "        running_loss += loss.item()\n",
    "        _, predicted = torch.max(outputs.data, 1)\n",
    "        total += labels.size(0)\n",
    "        correct += (predicted == labels).sum().item()\n",
    "\n",
    "    accuracy = 100 * correct / total\n",
    "    print(f\"Epoch [{epoch+1}/{num_epochs}], Loss: {running_loss:.4f}, Accuracy: {accuracy:.2f}%\")\n",
    "    \n",
    "    # Check early stopping\n",
    "    best_val_acc, patience_counter, should_stop = check_early_stopping(\n",
    "        current_acc=accuracy,\n",
    "        best_acc=best_val_acc,\n",
    "        patience_counter=patience_counter,\n",
    "        patience=patience,\n",
    "        model=model\n",
    "    )\n",
    "    \n",
    "    if should_stop:\n",
    "        print(f\"Training stopped early at epoch {epoch+1}\")\n",
    "        break\n",
    "\n",
    "print(\"Training completed!\")"
   ]
  }
 ],
 "metadata": {
  "kernelspec": {
   "display_name": ".venv",
   "language": "python",
   "name": "python3"
  },
  "language_info": {
   "codemirror_mode": {
    "name": "ipython",
    "version": 3
   },
   "file_extension": ".py",
   "mimetype": "text/x-python",
   "name": "python",
   "nbconvert_exporter": "python",
   "pygments_lexer": "ipython3",
   "version": "3.10.12"
  }
 },
 "nbformat": 4,
 "nbformat_minor": 5
}
